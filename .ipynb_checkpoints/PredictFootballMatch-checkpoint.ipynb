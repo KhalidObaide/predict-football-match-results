{
 "cells": [
  {
   "cell_type": "code",
   "execution_count": 216,
   "id": "fa05b647",
   "metadata": {},
   "outputs": [
    {
     "data": {
      "text/plain": [
       "['model-data.joblib']"
      ]
     },
     "execution_count": 216,
     "metadata": {},
     "output_type": "execute_result"
    }
   ],
   "source": [
    "# Prepair the data\n",
    "import pandas as pd\n",
    "\n",
    "# Read & create the data frame\n",
    "data = pd.read_csv('data.csv')\n",
    "x = data.filter(['season', 'localTeam', 'visitorTeam'])\n",
    "y = data.filter(['localGoals', 'visitorGoals'])\n",
    "\n",
    "# Clean the data frame (by converting the team names with numbers)\n",
    "teams = {}\n",
    "counter = 1\n",
    "for team in x['localTeam']:\n",
    "    try:\n",
    "        team = teams[team]\n",
    "    except:\n",
    "        teams[team] = counter\n",
    "        counter += 1\n",
    "for team in x['visitorTeam']:\n",
    "    try:\n",
    "        team = teams[team]\n",
    "    except:\n",
    "        teams[team] = counter\n",
    "        counter += 1\n",
    "\n",
    "x['season'] = x['season'].apply(lambda l: l.split(\"-\")[0])\n",
    "x['localTeam'] = x['localTeam'].apply(lambda l: teams[l])\n",
    "x['visitorTeam'] = x['visitorTeam'].apply(lambda l: teams[l])\n",
    "\n",
    "# Train and save the model\n",
    "from sklearn.model_selection import train_test_split\n",
    "from sklearn.tree import DecisionTreeClassifier\n",
    "import joblib\n",
    "\n",
    "x_train, x_test, y_train, y_test = train_test_split(x, y, test_size=0.1)\n",
    "    \n",
    "model = DecisionTreeClassifier()\n",
    "model.fit(x_train, y_train)\n",
    "joblib.dump(model, 'model-data.joblib')\n",
    "\n"
   ]
  },
  {
   "cell_type": "code",
   "execution_count": 217,
   "id": "7cd11863",
   "metadata": {},
   "outputs": [
    {
     "name": "stdout",
     "output_type": "stream",
     "text": [
      "0.3364737550471063 0.2519515477792732\n"
     ]
    }
   ],
   "source": [
    "# Find the accurecy\n",
    "import joblib\n",
    "from sklearn.metrics import accuracy_score\n",
    "\n",
    "model = joblib.load('model-data.joblib')\n",
    "predictions = model.predict(x_test)\n",
    "\n",
    "p_local = [pre[0] for pre in predictions]\n",
    "p_visitor = [pre[1] for pre in predictions]\n",
    "y_local = [ y for y in y_test['localGoals']]\n",
    "y_visitor = [ y for y in y_test['visitorGoals']]\n",
    "\n",
    "local_score = accuracy_score(y_local, p_local)\n",
    "visitor_score = accuracy_score(y_visitor, p_visitor)\n",
    "\n",
    "\n",
    "print(visitor_score, local_score)"
   ]
  },
  {
   "cell_type": "code",
   "execution_count": 234,
   "id": "09a92dcf",
   "metadata": {},
   "outputs": [],
   "source": [
    "# Export the decision tree graphical file\n",
    "from sklearn import tree\n",
    "tree.export_graphviz(model, out_file=\"tree.dot\", feature_names=[\"season\", \"localTeam\", \"visitorTeam\"], \n",
    "                     label=\"all\", filled=True, rounded=True)\n"
   ]
  },
  {
   "cell_type": "code",
   "execution_count": 241,
   "id": "d1a2c48e",
   "metadata": {
    "scrolled": true
   },
   "outputs": [
    {
     "name": "stdout",
     "output_type": "stream",
     "text": [
      "Match in    : 2008\n",
      "LocalTeam   : Atletico de Bilbao\n",
      "VisitorTeam : Atletico de Madrid\n",
      "Results     : 1 - 4\n",
      "#####################\n",
      "\n",
      "Match in    : 2003\n",
      "LocalTeam   : Barcelona\n",
      "VisitorTeam : Real Madrid\n",
      "Results     : 1 - 2\n",
      "#####################\n",
      "\n",
      "Match in    : 2030\n",
      "LocalTeam   : Barcelona\n",
      "VisitorTeam : Real Madrid\n",
      "Results     : 2 - 2\n",
      "#####################\n",
      "\n"
     ]
    }
   ],
   "source": [
    "def predict(year, local, visitor):\n",
    "    pre = model.predict([[year, teams[local], teams[visitor]]])\n",
    "\n",
    "    print(\"Match in    :\", str(year))\n",
    "    print(\"LocalTeam   :\", local)\n",
    "    print(\"VisitorTeam :\", visitor)\n",
    "    print(\"Results     :\", pre[0][0], \"-\", pre[0][1])\n",
    "    print(\"#####################\")\n",
    "    print(\"\")\n",
    "\n",
    "    \n",
    "# Test 1\n",
    "local = 'Atletico de Bilbao'\n",
    "visitor = 'Atletico de Madrid'\n",
    "year = 2008\n",
    "predict(year, local, visitor)\n",
    "\n",
    "\n",
    "# Test 2, Which actually happend in the history\n",
    "local = 'Barcelona'\n",
    "visitor = 'Real Madrid'\n",
    "year = 2003\n",
    "predict(year, local, visitor)\n",
    "\n",
    "# Test 3\n",
    "local = 'Barcelona'\n",
    "visitor = 'Real Madrid'\n",
    "year = 2030\n",
    "predict(year, local, visitor)\n"
   ]
  }
 ],
 "metadata": {
  "kernelspec": {
   "display_name": "Python 3 (ipykernel)",
   "language": "python",
   "name": "python3"
  },
  "language_info": {
   "codemirror_mode": {
    "name": "ipython",
    "version": 3
   },
   "file_extension": ".py",
   "mimetype": "text/x-python",
   "name": "python",
   "nbconvert_exporter": "python",
   "pygments_lexer": "ipython3",
   "version": "3.8.10"
  }
 },
 "nbformat": 4,
 "nbformat_minor": 5
}
